{
 "cells": [
  {
   "cell_type": "markdown",
   "id": "e01b1f0d",
   "metadata": {},
   "source": [
    "# Data Preprocessing"
   ]
  },
  {
   "cell_type": "code",
   "execution_count": 1,
   "id": "76f9ff18",
   "metadata": {},
   "outputs": [],
   "source": [
    "#---- Dataset ----#\n",
    "# name : \n",
    "# Descrption : "
   ]
  },
  {
   "cell_type": "code",
   "execution_count": 2,
   "id": "54734b71",
   "metadata": {},
   "outputs": [],
   "source": [
    "# Import packages"
   ]
  },
  {
   "cell_type": "markdown",
   "id": "dab09068",
   "metadata": {},
   "source": [
    "## Data cleaning\n",
    "\n",
    "Data cleaning routines work to “clean” the data by filling in missing values, smoothing noisy data, identifying or removing outliers, and resolving inconsistencies\n",
    "\n",
    "### Missing data\n",
    "\n",
    "Occur when no data value is stored for a variable in anobservation. Missing data are a common occurrence and can have a significant effect on the conclusions that can be drawn from the data"
   ]
  },
  {
   "cell_type": "code",
   "execution_count": 4,
   "id": "5cade7f0",
   "metadata": {},
   "outputs": [],
   "source": [
    "# code"
   ]
  },
  {
   "cell_type": "markdown",
   "id": "2b3ef193",
   "metadata": {},
   "source": [
    "### Noise\n",
    "\n",
    "Noise is incorrect, void, null information that is not useful at all, under any circumstances"
   ]
  },
  {
   "cell_type": "code",
   "execution_count": 5,
   "id": "b15a34fc",
   "metadata": {},
   "outputs": [],
   "source": [
    "## code"
   ]
  },
  {
   "cell_type": "markdown",
   "id": "2e01dc2b",
   "metadata": {},
   "source": [
    "## Outliers \n",
    "\n",
    "An outlier is not a false value or void in meaning. It is definite and accuratebut when it is linked with the other tuples, it is just not in the same range"
   ]
  },
  {
   "cell_type": "code",
   "execution_count": 7,
   "id": "aba72e04",
   "metadata": {},
   "outputs": [],
   "source": [
    "# code"
   ]
  },
  {
   "cell_type": "markdown",
   "id": "3f189272",
   "metadata": {},
   "source": [
    "### Data inconsistency\n",
    "\n",
    "It refers to a situation of keeping the same data in different formats. It often arise between various duplicates, due to inaccurate data entry or updating some but not all data occurrences or in data representations (e.g., “2010/12/25” and “25/12/2010” for date)"
   ]
  },
  {
   "cell_type": "code",
   "execution_count": 8,
   "id": "b04fe3a4",
   "metadata": {},
   "outputs": [],
   "source": [
    "# code "
   ]
  },
  {
   "cell_type": "markdown",
   "id": "928f703d",
   "metadata": {},
   "source": [
    "## Data Reduction\n",
    "\n",
    "Data reduction obtains a reduced representation of the data set that is much smaller in volume, yet produces the same (or almost the same) analytical results"
   ]
  },
  {
   "cell_type": "markdown",
   "id": "5f818e2e",
   "metadata": {},
   "source": [
    "### Feature Selection \n",
    "Techniques seek to reduce the number of original features by selecting those that are relevant and eliminating irrelevant andredundant ones"
   ]
  },
  {
   "cell_type": "code",
   "execution_count": 10,
   "id": "ab0d88a9",
   "metadata": {},
   "outputs": [],
   "source": [
    "# code"
   ]
  },
  {
   "cell_type": "markdown",
   "id": "9e45a0aa",
   "metadata": {},
   "source": [
    "### Feature Extraction\n",
    "Techniques, new attributes are constructed from thegiven set of attributes"
   ]
  },
  {
   "cell_type": "code",
   "execution_count": 11,
   "id": "b46518be",
   "metadata": {},
   "outputs": [],
   "source": [
    "# code"
   ]
  },
  {
   "cell_type": "markdown",
   "id": "5ebe9763",
   "metadata": {},
   "source": [
    "## Data Transformation\n",
    "\n",
    "### Normalization"
   ]
  },
  {
   "cell_type": "code",
   "execution_count": 12,
   "id": "8dc457a0",
   "metadata": {},
   "outputs": [],
   "source": [
    "# code"
   ]
  },
  {
   "cell_type": "markdown",
   "id": "5208c2f2",
   "metadata": {},
   "source": [
    "### Discretization"
   ]
  },
  {
   "cell_type": "code",
   "execution_count": 13,
   "id": "ec15eb4c",
   "metadata": {},
   "outputs": [],
   "source": [
    "# code "
   ]
  },
  {
   "cell_type": "markdown",
   "id": "eda035df",
   "metadata": {},
   "source": [
    "## Data Balancing\n",
    "\n",
    "**Inbalanced data** refers to a dataset within which one or some of the classes have a much greater number of training examples thanthe others\n",
    "\n",
    "### Sampling\n",
    "\n",
    "Consists of the modification of an imbalanced data set by some mechanisms in order to provide a balanced distribution"
   ]
  },
  {
   "cell_type": "code",
   "execution_count": 15,
   "id": "d7c9fef2",
   "metadata": {},
   "outputs": [],
   "source": [
    "# code"
   ]
  },
  {
   "cell_type": "markdown",
   "id": "3aaad5e4",
   "metadata": {},
   "source": [
    "### In-cost-sensitive\n",
    "\n",
    "Instead of each instance being either correctly or incorrectly classified, each class is given a misclassification cost. Thus, instead of trying to optimize the accuracy, the problem is then to minimize the total misclassificationcost."
   ]
  },
  {
   "cell_type": "code",
   "execution_count": 16,
   "id": "e0911617",
   "metadata": {},
   "outputs": [],
   "source": [
    "# code"
   ]
  }
 ],
 "metadata": {
  "kernelspec": {
   "display_name": "Python 3",
   "language": "python",
   "name": "python3"
  },
  "language_info": {
   "codemirror_mode": {
    "name": "ipython",
    "version": 3
   },
   "file_extension": ".py",
   "mimetype": "text/x-python",
   "name": "python",
   "nbconvert_exporter": "python",
   "pygments_lexer": "ipython3",
   "version": "3.9.5"
  }
 },
 "nbformat": 4,
 "nbformat_minor": 5
}
